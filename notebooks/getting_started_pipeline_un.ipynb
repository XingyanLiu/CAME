{
 "cells": [
  {
   "cell_type": "markdown",
   "id": "d6495895",
   "metadata": {},
   "source": [
    "# Getting started (for datasets with unaligned features)\n",
    "\n"
   ]
  },
  {
   "cell_type": "code",
   "execution_count": 1,
   "id": "6935113b",
   "metadata": {},
   "outputs": [],
   "source": [
    "import os\n",
    "import sys\n",
    "from pathlib import Path\n",
    "\n",
    "import numpy as np\n",
    "import pandas as pd\n",
    "from matplotlib import pyplot as plt\n",
    "import seaborn as sns\n",
    "\n",
    "import scanpy as sc\n",
    "from scipy import sparse\n",
    "from scipy.special import softmax\n",
    "\n",
    "import networkx as nx\n",
    "import torch"
   ]
  },
  {
   "cell_type": "code",
   "execution_count": 2,
   "id": "c20e3fe2",
   "metadata": {},
   "outputs": [
    {
     "name": "stderr",
     "output_type": "stream",
     "text": [
      "Using backend: pytorch\n"
     ]
    }
   ],
   "source": [
    "ROOT = Path('../')\n",
    "sys.path.append(str(ROOT))\n",
    "import came\n",
    "from came import pipeline, pp, pl"
   ]
  },
  {
   "cell_type": "markdown",
   "id": "7396c5e5",
   "metadata": {},
   "source": [
    "## Load datasets\n",
    "\n",
    "Load the example datasets:"
   ]
  },
  {
   "cell_type": "code",
   "execution_count": 3,
   "id": "00d1ffd3",
   "metadata": {},
   "outputs": [
    {
     "name": "stdout",
     "output_type": "stream",
     "text": [
      "dict_keys(['adatas', 'varmap', 'varmap_1v1', 'dataset_names', 'key_class'])\n",
      "a new directory made:\n",
      "\t../_temp/('Baron_human', 'Baron_mouse')-(08-15 01.58.31)/figs\n"
     ]
    }
   ],
   "source": [
    "from came.utils import load_example_data\n",
    "\n",
    "example_data_dict = load_example_data()\n",
    "print(example_data_dict.keys())\n",
    "\n",
    "dsnames = ('Baron_human', 'Baron_mouse')\n",
    "\n",
    "adatas = example_data_dict['adatas']\n",
    "dsnames = example_data_dict['dataset_names']\n",
    "df_varmap = example_data_dict['varmap']\n",
    "df_varmap_1v1 = example_data_dict['varmap_1v1']\n",
    "\n",
    "adata_raw1, adata_raw2 = adatas\n",
    "key_class1 = key_class2 = example_data_dict['key_class']\n",
    "\n",
    "# setting directory for results\n",
    "time_tag = came.make_nowtime_tag()\n",
    "resdir = ROOT /'_temp' / f'{dsnames}-{time_tag}'\n",
    "figdir = resdir / 'figs'\n",
    "came.check_dirs(figdir)  # check and make the directory"
   ]
  },
  {
   "cell_type": "markdown",
   "id": "b134821e",
   "metadata": {},
   "source": [
    "Load your own datasets:\n",
    "\n",
    "```python\n",
    "# ========= customize paths ==========\n",
    "datadir = ROOT / 'came/sample_data'  # set by user\n",
    "dir_gmap = ROOT / 'came/sample_data'  # set by user\n",
    "sp1, sp2 = ('human', 'mouse')\n",
    "dsnames = ('Baron_human', 'Baron_mouse')\n",
    "dsn1, dsn2 = dsnames\n",
    "\n",
    "path_rawdata1 = datadir / f'raw-{dsn1}.h5ad'  # set by user\n",
    "path_rawdata2 = datadir / f'raw-{dsn2}.h5ad'  # set by user\n",
    "\n",
    "path_varmap_1v1 = dir_gmap / f'gene_matches_1v1_{sp1}2{sp2}.csv'  # set by user\n",
    "path_varmap = dir_gmap / f'gene_matches_{sp1}2{sp2}.csv'  # set by user\n",
    "\n",
    "\n",
    "\n",
    "# ========= load data =========\n",
    "df_varmap_1v1 = pd.read_csv(path_varmap_1v1)\n",
    "df_varmap = pd.read_csv(path_varmap)\n",
    "\n",
    "adata_raw1 = sc.read_h5ad(path_rawdata1)\n",
    "adata_raw2 = sc.read_h5ad(path_rawdata2)\n",
    "adatas = [adata_raw1, adata_raw2]\n",
    "\n",
    "key_class1 = 'cell_ontology_class'  # set by user\n",
    "key_class2 = 'cell_ontology_class'  # set by user\n",
    "```\n",
    "\n",
    "Setting directory for results\n",
    "\n",
    "```python\n",
    "time_tag = came.make_nowtime_tag()\n",
    "resdir = ROOT /'_temp' / f'{dsnames}-{time_tag}'  # set by user\n",
    "figdir = resdir / 'figs'\n",
    "came.check_dirs(figdir)  # check and make the directory\n",
    "```"
   ]
  },
  {
   "cell_type": "markdown",
   "id": "14ef61ed",
   "metadata": {},
   "source": [
    "Filtering genes (optional)\n",
    "\n",
    "```python\n",
    "sc.pp.filter_genes(adata_raw1, min_cells=3)\n",
    "sc.pp.filter_genes(adata_raw2, min_cells=3)\n",
    "```"
   ]
  },
  {
   "cell_type": "markdown",
   "id": "6b9aa256",
   "metadata": {},
   "source": [
    "Inspect classes:"
   ]
  },
  {
   "cell_type": "code",
   "execution_count": null,
   "id": "9242f5e1",
   "metadata": {},
   "outputs": [],
   "source": [
    "# Inspect classes\n",
    "pd.concat([\n",
    "    pd.value_counts(adata_raw1.obs[key_class1]),\n",
    "    pd.value_counts(adata_raw2.obs[key_class2]),\n",
    "], axis=1)"
   ]
  },
  {
   "cell_type": "markdown",
   "id": "f5b6bb83",
   "metadata": {},
   "source": [
    "## The default pipeline of CAME\n",
    "\n",
    "Parameter setting:"
   ]
  },
  {
   "cell_type": "code",
   "execution_count": 4,
   "id": "42023df1",
   "metadata": {},
   "outputs": [],
   "source": [
    "# the numer of training epochs\n",
    "n_epochs = 200\n",
    "\n",
    "# the training batch size (when GPU memory is limited, recommanded is 8192 or more)\n",
    "batch_size = None  \n",
    "\n",
    "# the number of epochs to skip for checkpoint backup\n",
    "n_pass = 100\n",
    "\n",
    "# whether to use the single-cell network\n",
    "use_scnets = True\n"
   ]
  },
  {
   "cell_type": "code",
   "execution_count": 5,
   "id": "c625e599",
   "metadata": {},
   "outputs": [
    {
     "name": "stdout",
     "output_type": "stream",
     "text": [
      "[leiden] Time used:  0.1669 s\n",
      "groups to be removed:\n",
      "\t []\n",
      "650 genes before taking unique\n",
      "taking total of 523 unique differential expressed genes\n",
      "groups to be removed:\n",
      "\t []\n",
      "400 genes before taking unique\n",
      "taking total of 345 unique differential expressed genes\n",
      "already exists:\n",
      "\t../_temp/('Baron_human', 'Baron_mouse')-(08-15 01.58.31)/figs\n",
      "already exists:\n",
      "\t../_temp/('Baron_human', 'Baron_mouse')-(08-15 01.58.31)\n",
      "[*] Setting dataset names:\n",
      "\t0-->Baron_human\n",
      "\t1-->Baron_mouse\n",
      "[*] Setting aligned features for observation nodes (self._features)\n",
      "[*] Setting un-aligned features (`self._ov_adjs`) for making links connecting observation and variable nodes\n",
      "[*] Setting adjacent matrix connecting variables from these 2 datasets (`self._vv_adj`)\n",
      "Index(['cell_ontology_class', 'cell_ontology_id', 'cell_type1', 'dataset_name',\n",
      "       'donor', 'latent_1', 'latent_10', 'latent_2', 'latent_3', 'latent_4',\n",
      "       'latent_5', 'latent_6', 'latent_7', 'latent_8', 'latent_9', 'library',\n",
      "       'organ', 'organism', 'platform', 'tSNE1', 'tSNE2'],\n",
      "      dtype='object')\n",
      "Index(['cell_ontology_class', 'cell_ontology_id', 'cell_type1', 'dataset_name',\n",
      "       'donor', 'latent_1', 'latent_10', 'latent_2', 'latent_3', 'latent_4',\n",
      "       'latent_5', 'latent_6', 'latent_7', 'latent_8', 'latent_9', 'library',\n",
      "       'organ', 'organism', 'platform', 'tSNE1', 'tSNE2', 'clust_lbs'],\n",
      "      dtype='object')\n",
      "-------------------- Summary of the DGL-Heterograph --------------------\n",
      "Graph(num_nodes={'cell': 4028, 'gene': 6556},\n",
      "      num_edges={('cell', 'express', 'gene'): 1513823, ('cell', 'self_loop_cell', 'cell'): 4028, ('cell', 'similar_to', 'cell'): 25908, ('gene', 'expressed_by', 'cell'): 1513823, ('gene', 'homolog_with', 'gene'): 12462},\n",
      "      metagraph=[('cell', 'gene', 'express'), ('cell', 'cell', 'self_loop_cell'), ('cell', 'cell', 'similar_to'), ('gene', 'cell', 'expressed_by'), ('gene', 'gene', 'homolog_with')])\n",
      "second-order connection: False\n",
      "self-loops for observation-nodes: True\n",
      "self-loops for variable-nodes: True\n",
      "type B pancreatic cell      1517\n",
      "pancreatic ductal cell       565\n",
      "pancreatic A cell            768\n",
      "pancreatic acinar cell       231\n",
      "pancreatic PP cell           108\n",
      "pancreatic D cell            362\n",
      "pancreatic stellate cell     174\n",
      "endothelial cell             201\n",
      "macrophage                    54\n",
      "mast cell                      8\n",
      "Schwann cell                   8\n",
      "T cell                        11\n",
      "pancreatic epsilon cell        3\n",
      "unknown                       18\n",
      "dtype: int64\n",
      "a new directory made:\n",
      "\t../_temp/('Baron_human', 'Baron_mouse')-(08-15 01.58.31)/_models\n",
      "main directory: ../_temp/('Baron_human', 'Baron_mouse')-(08-15 01.58.31)\n",
      "model directory: ../_temp/('Baron_human', 'Baron_mouse')-(08-15 01.58.31)/_models\n",
      "already exists:\n",
      "\t../_temp/('Baron_human', 'Baron_mouse')-(08-15 01.58.31)/_models\n",
      "main directory: ../_temp/('Baron_human', 'Baron_mouse')-(08-15 01.58.31)\n",
      "model directory: ../_temp/('Baron_human', 'Baron_mouse')-(08-15 01.58.31)/_models\n",
      "============== start training (device='cpu') ===============\n",
      "Epoch 0000 | Train Acc: 0.0084 | Test Acc or AMI: 0.0191 (max=0.0191) | AMI=0.0307 | Time: 1.7707\n",
      "Epoch 0001 | Train Acc: 0.2694 | Test Acc or AMI: 0.1013 (max=0.1013) | AMI=0.1507 | Time: 1.7082\n",
      "Epoch 0002 | Train Acc: 0.2750 | Test Acc or AMI: 0.1013 (max=0.1013) | AMI=0.1735 | Time: 1.6873\n",
      "Epoch 0003 | Train Acc: 0.2894 | Test Acc or AMI: 0.2275 (max=0.2275) | AMI=0.1931 | Time: 1.6765\n",
      "Epoch 0004 | Train Acc: 0.2946 | Test Acc or AMI: 0.4046 (max=0.4046) | AMI=0.0996 | Time: 1.6701\n",
      "Epoch 0005 | Train Acc: 0.3179 | Test Acc or AMI: 0.4920 (max=0.4920) | AMI=0.1082 | Time: 1.6676\n",
      "Epoch 0006 | Train Acc: 0.3739 | Test Acc or AMI: 0.5429 (max=0.5429) | AMI=0.1771 | Time: 1.6642\n",
      "Epoch 0007 | Train Acc: 0.3973 | Test Acc or AMI: 0.4735 (max=0.5429) | AMI=0.2732 | Time: 1.6618\n",
      "Epoch 0008 | Train Acc: 0.5093 | Test Acc or AMI: 0.4083 (max=0.5429) | AMI=0.2651 | Time: 1.6601\n",
      "Epoch 0009 | Train Acc: 0.5201 | Test Acc or AMI: 0.3727 (max=0.5429) | AMI=0.2944 | Time: 1.6583\n",
      "Epoch 0010 | Train Acc: 0.5509 | Test Acc or AMI: 0.2089 (max=0.5429) | AMI=0.1891 | Time: 1.6570\n",
      "Epoch 0011 | Train Acc: 0.5486 | Test Acc or AMI: 0.2031 (max=0.5429) | AMI=0.1829 | Time: 1.6555\n",
      "Epoch 0012 | Train Acc: 0.5084 | Test Acc or AMI: 0.1713 (max=0.5429) | AMI=0.2013 | Time: 1.6544\n",
      "Epoch 0013 | Train Acc: 0.5658 | Test Acc or AMI: 0.2322 (max=0.5429) | AMI=0.2476 | Time: 1.6537\n",
      "Epoch 0014 | Train Acc: 0.6097 | Test Acc or AMI: 0.3966 (max=0.5429) | AMI=0.3343 | Time: 1.6532\n",
      "Epoch 0015 | Train Acc: 0.5957 | Test Acc or AMI: 0.5032 (max=0.5429) | AMI=0.3719 | Time: 1.6526\n",
      "Epoch 0016 | Train Acc: 0.5733 | Test Acc or AMI: 0.4958 (max=0.5429) | AMI=0.4074 | Time: 1.6524\n",
      "Epoch 0017 | Train Acc: 0.5980 | Test Acc or AMI: 0.6241 (max=0.6241) | AMI=0.4613 | Time: 1.6523\n",
      "Epoch 0018 | Train Acc: 0.5364 | Test Acc or AMI: 0.6225 (max=0.6241) | AMI=0.4683 | Time: 1.6522\n",
      "Epoch 0019 | Train Acc: 0.6513 | Test Acc or AMI: 0.5361 (max=0.6241) | AMI=0.4436 | Time: 1.6517\n",
      "Epoch 0020 | Train Acc: 0.6793 | Test Acc or AMI: 0.3855 (max=0.6241) | AMI=0.4817 | Time: 1.6518\n",
      "Epoch 0021 | Train Acc: 0.6821 | Test Acc or AMI: 0.3818 (max=0.6241) | AMI=0.4882 | Time: 1.6517\n",
      "Epoch 0022 | Train Acc: 0.6541 | Test Acc or AMI: 0.4454 (max=0.6241) | AMI=0.4935 | Time: 1.6518\n",
      "Epoch 0023 | Train Acc: 0.6615 | Test Acc or AMI: 0.4724 (max=0.6241) | AMI=0.4933 | Time: 1.6517\n",
      "Epoch 0024 | Train Acc: 0.7572 | Test Acc or AMI: 0.5095 (max=0.6241) | AMI=0.4969 | Time: 1.6516\n",
      "Epoch 0025 | Train Acc: 0.7810 | Test Acc or AMI: 0.5758 (max=0.6241) | AMI=0.5200 | Time: 1.6517\n",
      "Epoch 0026 | Train Acc: 0.8044 | Test Acc or AMI: 0.4417 (max=0.6241) | AMI=0.4975 | Time: 1.6516\n",
      "Epoch 0027 | Train Acc: 0.7876 | Test Acc or AMI: 0.5111 (max=0.6241) | AMI=0.5204 | Time: 1.6517\n",
      "Epoch 0028 | Train Acc: 0.8002 | Test Acc or AMI: 0.6034 (max=0.6241) | AMI=0.5285 | Time: 1.6518\n",
      "Epoch 0029 | Train Acc: 0.6601 | Test Acc or AMI: 0.7216 (max=0.7216) | AMI=0.5640 | Time: 1.6519\n",
      "Epoch 0030 | Train Acc: 0.7782 | Test Acc or AMI: 0.7365 (max=0.7365) | AMI=0.5732 | Time: 1.6522\n",
      "Epoch 0031 | Train Acc: 0.8016 | Test Acc or AMI: 0.7344 (max=0.7365) | AMI=0.5648 | Time: 1.6523\n",
      "Epoch 0032 | Train Acc: 0.8366 | Test Acc or AMI: 0.7784 (max=0.7784) | AMI=0.5913 | Time: 1.6524\n",
      "Epoch 0033 | Train Acc: 0.8445 | Test Acc or AMI: 0.7577 (max=0.7784) | AMI=0.5898 | Time: 1.6525\n",
      "Epoch 0034 | Train Acc: 0.8515 | Test Acc or AMI: 0.7131 (max=0.7784) | AMI=0.5849 | Time: 1.6526\n",
      "Epoch 0035 | Train Acc: 0.8567 | Test Acc or AMI: 0.7826 (max=0.7826) | AMI=0.6239 | Time: 1.6528\n",
      "Epoch 0036 | Train Acc: 0.8520 | Test Acc or AMI: 0.8128 (max=0.8128) | AMI=0.6514 | Time: 1.6530\n",
      "Epoch 0037 | Train Acc: 0.8632 | Test Acc or AMI: 0.8128 (max=0.8128) | AMI=0.6447 | Time: 1.6531\n",
      "Epoch 0038 | Train Acc: 0.8683 | Test Acc or AMI: 0.8213 (max=0.8213) | AMI=0.6688 | Time: 1.6534\n",
      "Epoch 0039 | Train Acc: 0.8637 | Test Acc or AMI: 0.8203 (max=0.8213) | AMI=0.6708 | Time: 1.6534\n",
      "Epoch 0040 | Train Acc: 0.8800 | Test Acc or AMI: 0.8266 (max=0.8266) | AMI=0.6825 | Time: 1.6536\n",
      "Epoch 0041 | Train Acc: 0.8772 | Test Acc or AMI: 0.8240 (max=0.8266) | AMI=0.6664 | Time: 1.6538\n",
      "Epoch 0042 | Train Acc: 0.8707 | Test Acc or AMI: 0.8197 (max=0.8266) | AMI=0.6753 | Time: 1.6539\n",
      "Epoch 0043 | Train Acc: 0.8782 | Test Acc or AMI: 0.8335 (max=0.8335) | AMI=0.6732 | Time: 1.6540\n",
      "Epoch 0044 | Train Acc: 0.8768 | Test Acc or AMI: 0.8165 (max=0.8335) | AMI=0.6605 | Time: 1.6541\n",
      "Epoch 0045 | Train Acc: 0.8852 | Test Acc or AMI: 0.8526 (max=0.8526) | AMI=0.6783 | Time: 1.6542\n",
      "Epoch 0046 | Train Acc: 0.8861 | Test Acc or AMI: 0.8499 (max=0.8526) | AMI=0.6881 | Time: 1.6543\n",
      "Epoch 0047 | Train Acc: 0.8838 | Test Acc or AMI: 0.8505 (max=0.8526) | AMI=0.6776 | Time: 1.6544\n",
      "Epoch 0048 | Train Acc: 0.8847 | Test Acc or AMI: 0.8446 (max=0.8526) | AMI=0.6707 | Time: 1.6545\n",
      "Epoch 0049 | Train Acc: 0.9253 | Test Acc or AMI: 0.8690 (max=0.8690) | AMI=0.6987 | Time: 1.6545\n",
      "Epoch 0050 | Train Acc: 0.9206 | Test Acc or AMI: 0.8961 (max=0.8961) | AMI=0.7185 | Time: 1.6546\n",
      "Epoch 0051 | Train Acc: 0.9155 | Test Acc or AMI: 0.8446 (max=0.8961) | AMI=0.6478 | Time: 1.6547\n",
      "Epoch 0052 | Train Acc: 0.8959 | Test Acc or AMI: 0.8468 (max=0.8961) | AMI=0.6845 | Time: 1.6547\n"
     ]
    },
    {
     "name": "stdout",
     "output_type": "stream",
     "text": [
      "Epoch 0053 | Train Acc: 0.9393 | Test Acc or AMI: 0.8955 (max=0.8961) | AMI=0.7222 | Time: 1.6548\n",
      "Epoch 0054 | Train Acc: 0.9290 | Test Acc or AMI: 0.8521 (max=0.8961) | AMI=0.6408 | Time: 1.6549\n",
      "Epoch 0055 | Train Acc: 0.9323 | Test Acc or AMI: 0.8940 (max=0.8961) | AMI=0.7021 | Time: 1.6549\n",
      "Epoch 0056 | Train Acc: 0.9314 | Test Acc or AMI: 0.8706 (max=0.8961) | AMI=0.7048 | Time: 1.6549\n",
      "Epoch 0057 | Train Acc: 0.9164 | Test Acc or AMI: 0.8478 (max=0.8961) | AMI=0.7510 | Time: 1.6550\n",
      "Epoch 0058 | Train Acc: 0.9379 | Test Acc or AMI: 0.8574 (max=0.8961) | AMI=0.6843 | Time: 1.6551\n",
      "Epoch 0059 | Train Acc: 0.9295 | Test Acc or AMI: 0.8611 (max=0.8961) | AMI=0.6636 | Time: 1.6552\n",
      "Epoch 0060 | Train Acc: 0.9412 | Test Acc or AMI: 0.9189 (max=0.9189) | AMI=0.7587 | Time: 1.6552\n",
      "Epoch 0061 | Train Acc: 0.9393 | Test Acc or AMI: 0.8775 (max=0.9189) | AMI=0.7465 | Time: 1.6553\n",
      "Epoch 0062 | Train Acc: 0.9486 | Test Acc or AMI: 0.8632 (max=0.9189) | AMI=0.7529 | Time: 1.6554\n",
      "Epoch 0063 | Train Acc: 0.9370 | Test Acc or AMI: 0.8494 (max=0.9189) | AMI=0.7210 | Time: 1.6554\n",
      "Epoch 0064 | Train Acc: 0.9622 | Test Acc or AMI: 0.9115 (max=0.9189) | AMI=0.7363 | Time: 1.6555\n",
      "Epoch 0065 | Train Acc: 0.9500 | Test Acc or AMI: 0.9358 (max=0.9358) | AMI=0.7691 | Time: 1.6556\n",
      "Epoch 0066 | Train Acc: 0.9510 | Test Acc or AMI: 0.9194 (max=0.9358) | AMI=0.7513 | Time: 1.6557\n",
      "Epoch 0067 | Train Acc: 0.9659 | Test Acc or AMI: 0.9099 (max=0.9358) | AMI=0.7672 | Time: 1.6558\n",
      "Epoch 0068 | Train Acc: 0.9692 | Test Acc or AMI: 0.8759 (max=0.9358) | AMI=0.7540 | Time: 1.6558\n",
      "Epoch 0069 | Train Acc: 0.9641 | Test Acc or AMI: 0.9003 (max=0.9358) | AMI=0.7491 | Time: 1.6559\n",
      "Epoch 0070 | Train Acc: 0.9561 | Test Acc or AMI: 0.9321 (max=0.9358) | AMI=0.7806 | Time: 1.6561\n",
      "Epoch 0071 | Train Acc: 0.9524 | Test Acc or AMI: 0.9348 (max=0.9358) | AMI=0.7833 | Time: 1.6562\n",
      "Epoch 0072 | Train Acc: 0.9566 | Test Acc or AMI: 0.9284 (max=0.9358) | AMI=0.7564 | Time: 1.6563\n",
      "Epoch 0073 | Train Acc: 0.9725 | Test Acc or AMI: 0.9130 (max=0.9358) | AMI=0.7420 | Time: 1.6563\n",
      "Epoch 0074 | Train Acc: 0.9697 | Test Acc or AMI: 0.8887 (max=0.9358) | AMI=0.7502 | Time: 1.6565\n",
      "Epoch 0075 | Train Acc: 0.9659 | Test Acc or AMI: 0.9242 (max=0.9358) | AMI=0.7795 | Time: 1.6565\n",
      "Epoch 0076 | Train Acc: 0.9687 | Test Acc or AMI: 0.9152 (max=0.9358) | AMI=0.7502 | Time: 1.6566\n",
      "Epoch 0077 | Train Acc: 0.9715 | Test Acc or AMI: 0.9252 (max=0.9358) | AMI=0.7604 | Time: 1.6567\n",
      "Epoch 0078 | Train Acc: 0.9678 | Test Acc or AMI: 0.9168 (max=0.9358) | AMI=0.7457 | Time: 1.6568\n",
      "Epoch 0079 | Train Acc: 0.9687 | Test Acc or AMI: 0.9051 (max=0.9358) | AMI=0.7502 | Time: 1.6568\n",
      "Epoch 0080 | Train Acc: 0.9669 | Test Acc or AMI: 0.9083 (max=0.9358) | AMI=0.7608 | Time: 1.6569\n",
      "Epoch 0081 | Train Acc: 0.9720 | Test Acc or AMI: 0.9194 (max=0.9358) | AMI=0.7766 | Time: 1.6570\n",
      "Epoch 0082 | Train Acc: 0.9743 | Test Acc or AMI: 0.9183 (max=0.9358) | AMI=0.7469 | Time: 1.6570\n",
      "Epoch 0083 | Train Acc: 0.9706 | Test Acc or AMI: 0.9337 (max=0.9358) | AMI=0.7730 | Time: 1.6571\n",
      "Epoch 0084 | Train Acc: 0.9748 | Test Acc or AMI: 0.9258 (max=0.9358) | AMI=0.7725 | Time: 1.6571\n",
      "Epoch 0085 | Train Acc: 0.9776 | Test Acc or AMI: 0.9189 (max=0.9358) | AMI=0.7533 | Time: 1.6571\n",
      "Epoch 0086 | Train Acc: 0.9827 | Test Acc or AMI: 0.9051 (max=0.9358) | AMI=0.7381 | Time: 1.6572\n",
      "Epoch 0087 | Train Acc: 0.9809 | Test Acc or AMI: 0.9014 (max=0.9358) | AMI=0.7145 | Time: 1.6572\n",
      "Epoch 0088 | Train Acc: 0.9781 | Test Acc or AMI: 0.9189 (max=0.9358) | AMI=0.7384 | Time: 1.6573\n",
      "Epoch 0089 | Train Acc: 0.9846 | Test Acc or AMI: 0.9290 (max=0.9358) | AMI=0.7718 | Time: 1.6574\n",
      "Epoch 0090 | Train Acc: 0.9804 | Test Acc or AMI: 0.9343 (max=0.9358) | AMI=0.7736 | Time: 1.6574\n",
      "Epoch 0091 | Train Acc: 0.9823 | Test Acc or AMI: 0.9162 (max=0.9358) | AMI=0.7745 | Time: 1.6575\n",
      "Epoch 0092 | Train Acc: 0.9837 | Test Acc or AMI: 0.8950 (max=0.9358) | AMI=0.7189 | Time: 1.6576\n",
      "Epoch 0093 | Train Acc: 0.9823 | Test Acc or AMI: 0.9332 (max=0.9358) | AMI=0.7673 | Time: 1.6576\n",
      "Epoch 0094 | Train Acc: 0.9823 | Test Acc or AMI: 0.9343 (max=0.9358) | AMI=0.7892 | Time: 1.6577\n",
      "Epoch 0095 | Train Acc: 0.9813 | Test Acc or AMI: 0.9258 (max=0.9358) | AMI=0.7686 | Time: 1.6578\n",
      "Epoch 0096 | Train Acc: 0.9837 | Test Acc or AMI: 0.9083 (max=0.9358) | AMI=0.7457 | Time: 1.6578\n",
      "Epoch 0097 | Train Acc: 0.9832 | Test Acc or AMI: 0.8977 (max=0.9358) | AMI=0.7319 | Time: 1.6579\n",
      "Epoch 0098 | Train Acc: 0.9846 | Test Acc or AMI: 0.9215 (max=0.9358) | AMI=0.7508 | Time: 1.6580\n",
      "[current best] model weights backup\n",
      "Epoch 0099 | Train Acc: 0.9855 | Test Acc or AMI: 0.9311 (max=0.9358) | AMI=0.7741 | Time: 1.6581\n",
      "Epoch 0100 | Train Acc: 0.9879 | Test Acc or AMI: 0.9247 (max=0.9358) | AMI=0.7562 | Time: 1.6581\n",
      "Epoch 0101 | Train Acc: 0.9846 | Test Acc or AMI: 0.8743 (max=0.9358) | AMI=0.6894 | Time: 1.6583\n",
      "Epoch 0102 | Train Acc: 0.9818 | Test Acc or AMI: 0.9274 (max=0.9358) | AMI=0.7546 | Time: 1.6583\n",
      "Epoch 0103 | Train Acc: 0.9855 | Test Acc or AMI: 0.9189 (max=0.9358) | AMI=0.7519 | Time: 1.6584\n",
      "[current best] model weights backup\n",
      "Epoch 0104 | Train Acc: 0.9846 | Test Acc or AMI: 0.9348 (max=0.9358) | AMI=0.7782 | Time: 1.6586\n",
      "Epoch 0105 | Train Acc: 0.9883 | Test Acc or AMI: 0.9290 (max=0.9358) | AMI=0.7620 | Time: 1.6587\n",
      "Epoch 0106 | Train Acc: 0.9809 | Test Acc or AMI: 0.8902 (max=0.9358) | AMI=0.7111 | Time: 1.6588\n",
      "Epoch 0107 | Train Acc: 0.9837 | Test Acc or AMI: 0.9109 (max=0.9358) | AMI=0.7237 | Time: 1.6589\n",
      "Epoch 0108 | Train Acc: 0.9860 | Test Acc or AMI: 0.9125 (max=0.9358) | AMI=0.7392 | Time: 1.6590\n",
      "Epoch 0109 | Train Acc: 0.9827 | Test Acc or AMI: 0.9146 (max=0.9358) | AMI=0.7513 | Time: 1.6590\n",
      "Epoch 0110 | Train Acc: 0.9893 | Test Acc or AMI: 0.9003 (max=0.9358) | AMI=0.7281 | Time: 1.6591\n",
      "Epoch 0111 | Train Acc: 0.9883 | Test Acc or AMI: 0.9109 (max=0.9358) | AMI=0.7459 | Time: 1.6592\n",
      "Epoch 0112 | Train Acc: 0.9883 | Test Acc or AMI: 0.9236 (max=0.9358) | AMI=0.7597 | Time: 1.6593\n",
      "Epoch 0113 | Train Acc: 0.9879 | Test Acc or AMI: 0.9236 (max=0.9358) | AMI=0.7602 | Time: 1.6593\n",
      "Epoch 0114 | Train Acc: 0.9897 | Test Acc or AMI: 0.9247 (max=0.9358) | AMI=0.7614 | Time: 1.6594\n",
      "Epoch 0115 | Train Acc: 0.9888 | Test Acc or AMI: 0.9077 (max=0.9358) | AMI=0.7244 | Time: 1.6595\n",
      "Epoch 0116 | Train Acc: 0.9916 | Test Acc or AMI: 0.9104 (max=0.9358) | AMI=0.7411 | Time: 1.6595\n",
      "Epoch 0117 | Train Acc: 0.9897 | Test Acc or AMI: 0.9168 (max=0.9358) | AMI=0.7556 | Time: 1.6595\n",
      "Epoch 0118 | Train Acc: 0.9902 | Test Acc or AMI: 0.9236 (max=0.9358) | AMI=0.7608 | Time: 1.6596\n",
      "Epoch 0119 | Train Acc: 0.9897 | Test Acc or AMI: 0.9242 (max=0.9358) | AMI=0.7453 | Time: 1.6596\n",
      "Epoch 0120 | Train Acc: 0.9897 | Test Acc or AMI: 0.9279 (max=0.9358) | AMI=0.7572 | Time: 1.6596\n",
      "Epoch 0121 | Train Acc: 0.9897 | Test Acc or AMI: 0.9242 (max=0.9358) | AMI=0.7606 | Time: 1.6597\n",
      "Epoch 0122 | Train Acc: 0.9911 | Test Acc or AMI: 0.8818 (max=0.9358) | AMI=0.7058 | Time: 1.6598\n",
      "Epoch 0123 | Train Acc: 0.9925 | Test Acc or AMI: 0.9035 (max=0.9358) | AMI=0.7334 | Time: 1.6598\n",
      "Epoch 0124 | Train Acc: 0.9888 | Test Acc or AMI: 0.9252 (max=0.9358) | AMI=0.7569 | Time: 1.6599\n",
      "Epoch 0125 | Train Acc: 0.9911 | Test Acc or AMI: 0.9258 (max=0.9358) | AMI=0.7537 | Time: 1.6599\n",
      "Epoch 0126 | Train Acc: 0.9911 | Test Acc or AMI: 0.9152 (max=0.9358) | AMI=0.7453 | Time: 1.6600\n",
      "Epoch 0127 | Train Acc: 0.9902 | Test Acc or AMI: 0.8823 (max=0.9358) | AMI=0.6941 | Time: 1.6601\n",
      "Epoch 0128 | Train Acc: 0.9897 | Test Acc or AMI: 0.9205 (max=0.9358) | AMI=0.7599 | Time: 1.6601\n",
      "model weights backup\n",
      "Epoch 0129 | Train Acc: 0.9907 | Test Acc or AMI: 0.9247 (max=0.9358) | AMI=0.7552 | Time: 1.6602\n",
      "Epoch 0130 | Train Acc: 0.9921 | Test Acc or AMI: 0.9242 (max=0.9358) | AMI=0.7513 | Time: 1.6603\n",
      "Epoch 0131 | Train Acc: 0.9925 | Test Acc or AMI: 0.8929 (max=0.9358) | AMI=0.7167 | Time: 1.6603\n",
      "Epoch 0132 | Train Acc: 0.9939 | Test Acc or AMI: 0.9051 (max=0.9358) | AMI=0.7265 | Time: 1.6604\n",
      "Epoch 0133 | Train Acc: 0.9935 | Test Acc or AMI: 0.9311 (max=0.9358) | AMI=0.7621 | Time: 1.6605\n",
      "Epoch 0134 | Train Acc: 0.9916 | Test Acc or AMI: 0.9226 (max=0.9358) | AMI=0.7567 | Time: 1.6605\n",
      "Epoch 0135 | Train Acc: 0.9897 | Test Acc or AMI: 0.8961 (max=0.9358) | AMI=0.7178 | Time: 1.6606\n"
     ]
    },
    {
     "name": "stdout",
     "output_type": "stream",
     "text": [
      "Epoch 0136 | Train Acc: 0.9921 | Test Acc or AMI: 0.9030 (max=0.9358) | AMI=0.7317 | Time: 1.6606\n",
      "Epoch 0137 | Train Acc: 0.9944 | Test Acc or AMI: 0.9305 (max=0.9358) | AMI=0.7693 | Time: 1.6607\n",
      "Epoch 0138 | Train Acc: 0.9925 | Test Acc or AMI: 0.9263 (max=0.9358) | AMI=0.7630 | Time: 1.6608\n",
      "Epoch 0139 | Train Acc: 0.9930 | Test Acc or AMI: 0.9056 (max=0.9358) | AMI=0.7206 | Time: 1.6608\n",
      "Epoch 0140 | Train Acc: 0.9930 | Test Acc or AMI: 0.8934 (max=0.9358) | AMI=0.7178 | Time: 1.6609\n",
      "Epoch 0141 | Train Acc: 0.9935 | Test Acc or AMI: 0.8977 (max=0.9358) | AMI=0.7183 | Time: 1.6609\n",
      "Epoch 0142 | Train Acc: 0.9935 | Test Acc or AMI: 0.9157 (max=0.9358) | AMI=0.7530 | Time: 1.6610\n",
      "Epoch 0143 | Train Acc: 0.9953 | Test Acc or AMI: 0.9141 (max=0.9358) | AMI=0.7453 | Time: 1.6610\n",
      "Epoch 0144 | Train Acc: 0.9921 | Test Acc or AMI: 0.9056 (max=0.9358) | AMI=0.7330 | Time: 1.6611\n",
      "Epoch 0145 | Train Acc: 0.9921 | Test Acc or AMI: 0.8765 (max=0.9358) | AMI=0.6960 | Time: 1.6611\n",
      "Epoch 0146 | Train Acc: 0.9935 | Test Acc or AMI: 0.9173 (max=0.9358) | AMI=0.7409 | Time: 1.6612\n",
      "Epoch 0147 | Train Acc: 0.9939 | Test Acc or AMI: 0.9215 (max=0.9358) | AMI=0.7513 | Time: 1.6613\n",
      "Epoch 0148 | Train Acc: 0.9930 | Test Acc or AMI: 0.8902 (max=0.9358) | AMI=0.7195 | Time: 1.6613\n",
      "Epoch 0149 | Train Acc: 0.9944 | Test Acc or AMI: 0.8765 (max=0.9358) | AMI=0.7013 | Time: 1.6613\n",
      "Epoch 0150 | Train Acc: 0.9930 | Test Acc or AMI: 0.9056 (max=0.9358) | AMI=0.7284 | Time: 1.6614\n",
      "Epoch 0151 | Train Acc: 0.9916 | Test Acc or AMI: 0.9210 (max=0.9358) | AMI=0.7502 | Time: 1.6614\n",
      "Epoch 0152 | Train Acc: 0.9935 | Test Acc or AMI: 0.9099 (max=0.9358) | AMI=0.7243 | Time: 1.6615\n",
      "Epoch 0153 | Train Acc: 0.9930 | Test Acc or AMI: 0.9003 (max=0.9358) | AMI=0.7288 | Time: 1.6615\n",
      "Epoch 0154 | Train Acc: 0.9953 | Test Acc or AMI: 0.8913 (max=0.9358) | AMI=0.7101 | Time: 1.6615\n",
      "Epoch 0155 | Train Acc: 0.9949 | Test Acc or AMI: 0.8929 (max=0.9358) | AMI=0.7055 | Time: 1.6616\n",
      "Epoch 0156 | Train Acc: 0.9930 | Test Acc or AMI: 0.8982 (max=0.9358) | AMI=0.7004 | Time: 1.6616\n",
      "Epoch 0157 | Train Acc: 0.9925 | Test Acc or AMI: 0.8701 (max=0.9358) | AMI=0.6830 | Time: 1.6616\n",
      "Epoch 0158 | Train Acc: 0.9953 | Test Acc or AMI: 0.8982 (max=0.9358) | AMI=0.7206 | Time: 1.6616\n",
      "Epoch 0159 | Train Acc: 0.9935 | Test Acc or AMI: 0.9199 (max=0.9358) | AMI=0.7589 | Time: 1.6617\n",
      "Epoch 0160 | Train Acc: 0.9944 | Test Acc or AMI: 0.9125 (max=0.9358) | AMI=0.7445 | Time: 1.6617\n",
      "Epoch 0161 | Train Acc: 0.9949 | Test Acc or AMI: 0.8680 (max=0.9358) | AMI=0.6907 | Time: 1.6617\n",
      "Epoch 0162 | Train Acc: 0.9935 | Test Acc or AMI: 0.8998 (max=0.9358) | AMI=0.7107 | Time: 1.6618\n",
      "Epoch 0163 | Train Acc: 0.9949 | Test Acc or AMI: 0.8940 (max=0.9358) | AMI=0.7190 | Time: 1.6618\n",
      "Epoch 0164 | Train Acc: 0.9953 | Test Acc or AMI: 0.8632 (max=0.9358) | AMI=0.6863 | Time: 1.6618\n",
      "Epoch 0165 | Train Acc: 0.9911 | Test Acc or AMI: 0.8144 (max=0.9358) | AMI=0.6399 | Time: 1.6618\n",
      "Epoch 0166 | Train Acc: 0.9958 | Test Acc or AMI: 0.8881 (max=0.9358) | AMI=0.6931 | Time: 1.6619\n",
      "Epoch 0167 | Train Acc: 0.9930 | Test Acc or AMI: 0.9247 (max=0.9358) | AMI=0.7529 | Time: 1.6619\n",
      "Epoch 0168 | Train Acc: 0.9939 | Test Acc or AMI: 0.9115 (max=0.9358) | AMI=0.7248 | Time: 1.6619\n",
      "Epoch 0169 | Train Acc: 0.9925 | Test Acc or AMI: 0.7747 (max=0.9358) | AMI=0.6066 | Time: 1.6619\n",
      "Epoch 0170 | Train Acc: 0.9944 | Test Acc or AMI: 0.8701 (max=0.9358) | AMI=0.6858 | Time: 1.6619\n",
      "Epoch 0171 | Train Acc: 0.9953 | Test Acc or AMI: 0.9215 (max=0.9358) | AMI=0.7445 | Time: 1.6620\n",
      "model weights backup\n",
      "Epoch 0172 | Train Acc: 0.9953 | Test Acc or AMI: 0.9189 (max=0.9358) | AMI=0.7389 | Time: 1.6620\n",
      "Epoch 0173 | Train Acc: 0.9953 | Test Acc or AMI: 0.8860 (max=0.9358) | AMI=0.7006 | Time: 1.6621\n",
      "Epoch 0174 | Train Acc: 0.9949 | Test Acc or AMI: 0.8213 (max=0.9358) | AMI=0.6468 | Time: 1.6622\n",
      "Epoch 0175 | Train Acc: 0.9958 | Test Acc or AMI: 0.8818 (max=0.9358) | AMI=0.6955 | Time: 1.6623\n",
      "Epoch 0176 | Train Acc: 0.9953 | Test Acc or AMI: 0.9120 (max=0.9358) | AMI=0.7379 | Time: 1.6623\n",
      "Epoch 0177 | Train Acc: 0.9958 | Test Acc or AMI: 0.8918 (max=0.9358) | AMI=0.7110 | Time: 1.6624\n",
      "Epoch 0178 | Train Acc: 0.9953 | Test Acc or AMI: 0.8595 (max=0.9358) | AMI=0.6682 | Time: 1.6624\n",
      "Epoch 0179 | Train Acc: 0.9958 | Test Acc or AMI: 0.8924 (max=0.9358) | AMI=0.7166 | Time: 1.6624\n",
      "Epoch 0180 | Train Acc: 0.9949 | Test Acc or AMI: 0.9109 (max=0.9358) | AMI=0.7412 | Time: 1.6625\n",
      "Epoch 0181 | Train Acc: 0.9972 | Test Acc or AMI: 0.9109 (max=0.9358) | AMI=0.7366 | Time: 1.6626\n",
      "Epoch 0182 | Train Acc: 0.9944 | Test Acc or AMI: 0.8876 (max=0.9358) | AMI=0.7035 | Time: 1.6626\n",
      "Epoch 0183 | Train Acc: 0.9930 | Test Acc or AMI: 0.8860 (max=0.9358) | AMI=0.6891 | Time: 1.6626\n",
      "Epoch 0184 | Train Acc: 0.9967 | Test Acc or AMI: 0.8934 (max=0.9358) | AMI=0.7036 | Time: 1.6627\n",
      "Epoch 0185 | Train Acc: 0.9949 | Test Acc or AMI: 0.8828 (max=0.9358) | AMI=0.7129 | Time: 1.6627\n",
      "Epoch 0186 | Train Acc: 0.9958 | Test Acc or AMI: 0.8409 (max=0.9358) | AMI=0.6605 | Time: 1.6628\n",
      "Epoch 0187 | Train Acc: 0.9963 | Test Acc or AMI: 0.8717 (max=0.9358) | AMI=0.6909 | Time: 1.6628\n",
      "Epoch 0188 | Train Acc: 0.9958 | Test Acc or AMI: 0.9099 (max=0.9358) | AMI=0.7281 | Time: 1.6628\n",
      "Epoch 0189 | Train Acc: 0.9967 | Test Acc or AMI: 0.8950 (max=0.9358) | AMI=0.7090 | Time: 1.6628\n",
      "Epoch 0190 | Train Acc: 0.9958 | Test Acc or AMI: 0.8701 (max=0.9358) | AMI=0.6958 | Time: 1.6628\n",
      "Epoch 0191 | Train Acc: 0.9958 | Test Acc or AMI: 0.7990 (max=0.9358) | AMI=0.6287 | Time: 1.6628\n",
      "Epoch 0192 | Train Acc: 0.9972 | Test Acc or AMI: 0.8606 (max=0.9358) | AMI=0.6883 | Time: 1.6629\n",
      "Epoch 0193 | Train Acc: 0.9939 | Test Acc or AMI: 0.9062 (max=0.9358) | AMI=0.7364 | Time: 1.6629\n",
      "Epoch 0194 | Train Acc: 0.9972 | Test Acc or AMI: 0.8823 (max=0.9358) | AMI=0.6982 | Time: 1.6629\n",
      "Epoch 0195 | Train Acc: 0.9972 | Test Acc or AMI: 0.8346 (max=0.9358) | AMI=0.6582 | Time: 1.6629\n",
      "Epoch 0196 | Train Acc: 0.9953 | Test Acc or AMI: 0.8690 (max=0.9358) | AMI=0.6833 | Time: 1.6630\n",
      "Epoch 0197 | Train Acc: 0.9939 | Test Acc or AMI: 0.8961 (max=0.9358) | AMI=0.7236 | Time: 1.6630\n",
      "Epoch 0198 | Train Acc: 0.9986 | Test Acc or AMI: 0.8908 (max=0.9358) | AMI=0.7177 | Time: 1.6631\n",
      "Epoch 0199 | Train Acc: 0.9953 | Test Acc or AMI: 0.8324 (max=0.9358) | AMI=0.6549 | Time: 1.6631\n",
      "figure has been saved into:\n",
      "\t../_temp/('Baron_human', 'Baron_mouse')-(08-15 01.58.31)/figs/cluster_index.png\n",
      "states loaded from: ../_temp/('Baron_human', 'Baron_mouse')-(08-15 01.58.31)/_models/weights_epoch104.pt\n"
     ]
    },
    {
     "name": "stderr",
     "output_type": "stream",
     "text": [
      "WARNING:root:{'classes': ['type B pancreatic cell', 'pancreatic ductal cell', 'pancreatic A cell', 'pancreatic acinar cell', 'pancreatic PP cell', 'pancreatic D cell', 'pancreatic stellate cell', 'endothelial cell', 'macrophage', 'mast cell', 'Schwann cell', 'T cell', 'pancreatic epsilon cell'], 'mode': 'sigmoid', 'mean': [0.7144684791564941, 0.4766557514667511, 0.7326106429100037, 0.3515605032444, 0.8704712986946106, 0.8243743777275085, 0.8391351699829102, 0.6261552572250366, 0.5809420347213745, 0.6069664359092712, 0.5338937044143677, 0.48413848876953125, 0.5266498327255249], 'std': [0.15104517340660095, 0.0672357901930809, 0.10063198208808899, 0.13837358355522156, 0.04360757768154144, 0.10190058499574661, 0.061831921339035034, 0.024251431226730347, 0.1168205589056015, 0.06544437259435654, 0.053689099848270416, 0.06125341355800629, 0.04323433339595795], 'mean_fg': [0.9632493853569031, 0.9666748046875, 0.9697803258895874, 0.9621382355690002, 0.9266045689582825, 0.9530453085899353, 0.9683818221092224, 0.966427743434906, 0.9532076716423035, 0.9266080856323242, 0.7186150550842285, 0.9063633680343628, 0.464274138212204], 'std_fg': [0.042093392461538315, 0.0362342894077301, 0.005607455503195524, 0.04590658098459244, 0.021623162552714348, 0.018894098699092865, 0.006156843155622482, 0.01429828256368637, 0.007755872327834368, 0.013816735707223415, 0.05993124842643738, 0.03149767965078354, 0.0369914248585701]}\n",
      "WARNING:root:No inputs were given for the forward passing, so the returned are the current hidden states of the model.\n"
     ]
    },
    {
     "name": "stdout",
     "output_type": "stream",
     "text": [
      "type B pancreatic cell      1517\n",
      "pancreatic ductal cell       565\n",
      "pancreatic A cell            768\n",
      "pancreatic acinar cell       231\n",
      "pancreatic PP cell           108\n",
      "pancreatic D cell            362\n",
      "pancreatic stellate cell     174\n",
      "endothelial cell             201\n",
      "macrophage                    54\n",
      "mast cell                      8\n",
      "Schwann cell                   8\n",
      "T cell                        11\n",
      "pancreatic epsilon cell        3\n",
      "unknown                       18\n",
      "dtype: int64\n",
      "object saved into:\n",
      "\t ../_temp/('Baron_human', 'Baron_mouse')-(08-15 01.58.31)/datapair_init.pickle\n",
      "Re-order the rows\n",
      "figure has been saved into:\n",
      "\t../_temp/('Baron_human', 'Baron_mouse')-(08-15 01.58.31)/figs/contingency_matrix(acc93.5%).png\n",
      "figure has been saved into:\n",
      "\t../_temp/('Baron_human', 'Baron_mouse')-(08-15 01.58.31)/figs/contingency_matrix-train.png\n",
      "figure has been saved into:\n",
      "\t../_temp/('Baron_human', 'Baron_mouse')-(08-15 01.58.31)/figs/heatmap_probas.pdf\n"
     ]
    }
   ],
   "source": [
    "came_inputs, (adata1, adata2) = pipeline.preprocess_unaligned(\n",
    "    adatas,\n",
    "    key_class=key_class1,\n",
    "    use_scnets=use_scnets,\n",
    ")\n",
    "\n",
    "dpair, trainer, h_dict, predictor, ENV_VARs = pipeline.main_for_unaligned(\n",
    "    **came_inputs,\n",
    "    df_varmap=df_varmap,\n",
    "    df_varmap_1v1=df_varmap_1v1,\n",
    "    dataset_names=dsnames,\n",
    "    key_class1=key_class1,\n",
    "    key_class2=key_class2,\n",
    "    do_normalize=True,\n",
    "    n_epochs=n_epochs,\n",
    "    resdir=resdir,\n",
    "    n_pass=n_pass,\n",
    "    batch_size=batch_size,\n",
    "    plot_results=True,\n",
    ")\n",
    "\n",
    "obs_ids1, obs_ids2 = dpair.obs_ids1, dpair.obs_ids2\n",
    "obs = dpair.obs\n",
    "classes = predictor.classes\n"
   ]
  },
  {
   "cell_type": "markdown",
   "id": "7bf81d22",
   "metadata": {},
   "source": [
    "### Laod other checkpont\n",
    "\n",
    "You can load other model checkpoint if the default model is not satisfying.\n",
    "\n",
    "For example, load the last checkpoint and compute the results of it:\n",
    "\n",
    "```python\n",
    "obs, df_probs, h_dict, predictor = pipeline.gather_came_results(\n",
    "    dpair,\n",
    "    trainer,\n",
    "    classes=classes,\n",
    "    keys=(key_class1, key_class2),\n",
    "    keys_compare=(key_class1, key_class2),\n",
    "    resdir=resdir,\n",
    "    checkpoint='last',\n",
    "    batch_size=None,\n",
    ")\n",
    "```\n",
    "\n",
    "You can get all saved checkpoint numbers:"
   ]
  },
  {
   "cell_type": "code",
   "execution_count": 6,
   "id": "0e00e166",
   "metadata": {},
   "outputs": [
    {
     "data": {
      "text/plain": [
       "[104, 199, 99, 129, 172]"
      ]
     },
     "execution_count": 6,
     "metadata": {},
     "output_type": "execute_result"
    }
   ],
   "source": [
    "came.utils.train.get_checkpoint_list(resdir / '_models')"
   ]
  },
  {
   "cell_type": "markdown",
   "id": "4a010fad",
   "metadata": {},
   "source": [
    "## Plot CAME's annotation results"
   ]
  },
  {
   "cell_type": "markdown",
   "id": "c3d002d7",
   "metadata": {},
   "source": [
    "### Plot the contingency matrix for query dataset"
   ]
  },
  {
   "cell_type": "code",
   "execution_count": 7,
   "id": "0d3c6693",
   "metadata": {},
   "outputs": [
    {
     "name": "stdout",
     "output_type": "stream",
     "text": [
      "figure has been saved into:\n",
      "\t../_temp/('Baron_human', 'Baron_mouse')-(08-15 01.58.31)/figs/contingency_mat.png\n"
     ]
    },
    {
     "data": {
      "image/png": "[encoded data removed]",
      "text/plain": [
       "<Figure size 320x240 with 2 Axes>"
      ]
     },
     "execution_count": 7,
     "metadata": {},
     "output_type": "execute_result"
    }
   ],
   "source": [
    "# contingency matrix for query dataset\n",
    "y_true = obs['celltype'][obs_ids2].values\n",
    "y_pred = obs['predicted'][obs_ids2].values\n",
    "\n",
    "ax, contmat = pl.plot_contingency_mat(\n",
    "    y_true, y_pred, norm_axis=1, \n",
    "    order_rows=False, order_cols=False,\n",
    ")\n",
    "pl._save_with_adjust(ax.figure, figdir / 'contingency_mat.png')\n",
    "ax.figure"
   ]
  },
  {
   "cell_type": "markdown",
   "id": "bf86aa57",
   "metadata": {},
   "source": [
    "### Plot heatmap of predicted probabilities"
   ]
  },
  {
   "cell_type": "code",
   "execution_count": 8,
   "id": "ef5fe931",
   "metadata": {},
   "outputs": [
    {
     "name": "stdout",
     "output_type": "stream",
     "text": [
      "figure has been saved into:\n",
      "\t../_temp/('Baron_human', 'Baron_mouse')-(08-15 01.58.31)/figs/heatmap_probas.pdf\n"
     ]
    },
    {
     "data": {
      "image/png": "[encoded data removed]",
      "text/plain": [
       "<Figure size 400x240 with 3 Axes>"
      ]
     },
     "execution_count": 8,
     "metadata": {},
     "output_type": "execute_result"
    }
   ],
   "source": [
    "name_label = 'celltype'\n",
    "cols_anno = ['celltype', 'predicted'][:]\n",
    "df_probs = obs[list(classes)]\n",
    "\n",
    "\n",
    "gs = pl.wrapper_heatmap_scores(\n",
    "        df_probs.iloc[obs_ids2], obs.iloc[obs_ids2], ignore_index=True,\n",
    "        col_label='celltype', col_pred='predicted',\n",
    "        n_subsample=50,\n",
    "        cmap_heat='magma_r',  # if prob_func == 'softmax' else 'RdBu_r'\n",
    "        fp=figdir / f'heatmap_probas.pdf'\n",
    "    )\n",
    "\n",
    "gs.figure"
   ]
  },
  {
   "cell_type": "markdown",
   "id": "82913080",
   "metadata": {},
   "source": [
    "## Get model hidden states"
   ]
  },
  {
   "cell_type": "code",
   "execution_count": 9,
   "id": "ed4d1ae8",
   "metadata": {},
   "outputs": [],
   "source": [
    "model = trainer.model\n",
    "feat_dict = trainer.feat_dict  # dpair.get_feature_dict(scale=True) --> CPU\n",
    "g = trainer.g  # dpair.get_whole_net() --> CPU\n",
    "\n",
    "# all hidden states\n",
    "hidden_list = came.model.get_all_hidden_states(trainer.model, feat_dict, g)"
   ]
  },
  {
   "cell_type": "markdown",
   "id": "dd9b38eb",
   "metadata": {},
   "source": [
    "Save hidden states"
   ]
  },
  {
   "cell_type": "code",
   "execution_count": 10,
   "id": "8f9aba92",
   "metadata": {},
   "outputs": [],
   "source": [
    "came.save_hidden_states(hidden_list, resdir / 'hidden_list.h5')"
   ]
  },
  {
   "cell_type": "code",
   "execution_count": null,
   "id": "639566a6",
   "metadata": {},
   "outputs": [],
   "source": []
  }
 ],
 "metadata": {
  "kernelspec": {
   "display_name": "Python 3",
   "language": "python",
   "name": "python3"
  },
  "language_info": {
   "codemirror_mode": {
    "name": "ipython",
    "version": 3
   },
   "file_extension": ".py",
   "mimetype": "text/x-python",
   "name": "python",
   "nbconvert_exporter": "python",
   "pygments_lexer": "ipython3",
   "version": "3.8.8"
  }
 },
 "nbformat": 4,
 "nbformat_minor": 5
}
